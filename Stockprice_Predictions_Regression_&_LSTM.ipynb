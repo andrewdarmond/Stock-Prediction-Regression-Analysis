{
 "cells": [
  {
   "cell_type": "markdown",
   "metadata": {
    "id": "3n66xj4BGKWM"
   },
   "source": [
    "# IMPORT DATASETS AND LIBRARIES"
   ]
  },
  {
   "cell_type": "code",
   "execution_count": 1,
   "metadata": {
    "id": "KVxYSMIUxx_U"
   },
   "outputs": [],
   "source": [
    "# Data Maniupulation\n",
    "import pandas as pd\n",
    "import matplotlib.pyplot as plt\n",
    "import numpy as np\n",
    "\n",
    "# Data Visualization\n",
    "import plotly.figure_factory as ff\n",
    "import plotly.express as px\n",
    "\n",
    "# Modeling\n",
    "from sklearn.preprocessing import MinMaxScaler\n",
    "from sklearn.linear_model import LinearRegression\n",
    "from sklearn.model_selection import train_test_split\n",
    "from sklearn.linear_model import Ridge\n",
    "from tensorflow import keras\n",
    "\n",
    "# Additional\n",
    "from copy import copy\n",
    "from scipy import stats"
   ]
  },
  {
   "cell_type": "code",
   "execution_count": 2,
   "metadata": {
    "colab": {
     "base_uri": "https://localhost:8080/",
     "height": 419
    },
    "id": "HbxX37RAYEXS",
    "outputId": "d5f00cd5-c396-454f-9c8c-31bdd70172aa"
   },
   "outputs": [],
   "source": [
    "# Stock prices data\n",
    "stocks_df = pd.read_csv('/Users/andrewdarmond/Documents/FinanceML/stock.csv')\n",
    "\n",
    "# Stocks volume data\n",
    "stocks_vol_df = pd.read_csv('/Users/andrewdarmond/Documents/FinanceML/stock_volume.csv')"
   ]
  },
  {
   "cell_type": "code",
   "execution_count": 3,
   "metadata": {
    "id": "et-6_Df_Gcod"
   },
   "outputs": [],
   "source": [
    "# Sort the data based on Date\n",
    "stocks_df = stocks_df.sort_values('Date')"
   ]
  },
  {
   "cell_type": "code",
   "execution_count": 4,
   "metadata": {
    "id": "ROFg8mJP9s0W"
   },
   "outputs": [],
   "source": [
    "# Sort the volume data based on Date\n",
    "stocks_vol_df = stocks_vol_df.sort_values('Date')"
   ]
  },
  {
   "cell_type": "markdown",
   "metadata": {
    "id": "-nFC4pHcGr57"
   },
   "source": [
    "# PERFORM EXPLORATORY DATA ANALYSIS AND VISUALIZATION"
   ]
  },
  {
   "cell_type": "code",
   "execution_count": 5,
   "metadata": {
    "id": "YDkIJX8rEMxC"
   },
   "outputs": [],
   "source": [
    "# Function to normalize stock prices based on their initial price\n",
    "def normalize(df):\n",
    "  x = df.copy()\n",
    "  for i in x.columns[1:]:\n",
    "    x[i] = x[i]/x[i][0]\n",
    "  return x"
   ]
  },
  {
   "cell_type": "code",
   "execution_count": 6,
   "metadata": {
    "id": "hGNiYwkkLqfu"
   },
   "outputs": [],
   "source": [
    "# Function to plot interactive plots using Plotly Express\n",
    "def interactive_plot(df, title):\n",
    "  fig = px.line(title = title)\n",
    "  for i in df.columns[1:]:\n",
    "    fig.add_scatter(x = df['Date'], y = df[i], name =i)\n",
    "  fig.show()"
   ]
  },
  {
   "cell_type": "code",
   "execution_count": 7,
   "metadata": {
    "colab": {
     "base_uri": "https://localhost:8080/",
     "height": 542
    },
    "id": "zzkZZQ5NO2AJ",
    "outputId": "7eae500c-e970-470a-daf5-1697ca69c9fd"
   },
   "outputs": [],
   "source": [
    "# plot interactive chart for stocks data\n",
    "#interactive_plot(stocks_df, 'Stock Prices')"
   ]
  },
  {
   "cell_type": "code",
   "execution_count": 8,
   "metadata": {
    "colab": {
     "base_uri": "https://localhost:8080/",
     "height": 542
    },
    "id": "hOE-hbUBIemY",
    "outputId": "c923911d-02bd-4f1c-efb2-885c037277f7",
    "scrolled": false
   },
   "outputs": [],
   "source": [
    "#interactive_plot(normalize(stocks_df), 'Normalize Stock Prices')"
   ]
  },
  {
   "cell_type": "code",
   "execution_count": 9,
   "metadata": {
    "colab": {
     "base_uri": "https://localhost:8080/",
     "height": 542
    },
    "id": "bqSp2dMnhaVW",
    "outputId": "ca970f09-9e83-4449-c4a4-703a7606a32c"
   },
   "outputs": [],
   "source": [
    "#interactive_plot(stocks_vol_df, 'Stocks Volume')"
   ]
  },
  {
   "cell_type": "code",
   "execution_count": 10,
   "metadata": {
    "colab": {
     "base_uri": "https://localhost:8080/",
     "height": 542
    },
    "id": "TI1gPnPJIeYR",
    "outputId": "71c63a82-7f96-44de-fb3b-1eec5d924c9a"
   },
   "outputs": [],
   "source": [
    "#interactive_plot(normalize(stocks_vol_df), 'Normalizes Stock Volume')"
   ]
  },
  {
   "cell_type": "markdown",
   "metadata": {
    "id": "DFE61_E-gu5V"
   },
   "source": [
    "# PREPARE THE DATA BEFORE TRAINING THE MODEL"
   ]
  },
  {
   "cell_type": "code",
   "execution_count": 11,
   "metadata": {
    "id": "LA1XN-zgBMHI"
   },
   "outputs": [],
   "source": [
    "# Function to concatenate the date, stock price, and volume in one dataframe\n",
    "def individual_stock(price_df, vol_df, name):\n",
    "  return pd.DataFrame({'Date': price_df['Date'], 'Close': price_df[name], 'Volume': vol_df[name]})"
   ]
  },
  {
   "cell_type": "code",
   "execution_count": 12,
   "metadata": {
    "id": "NP_-Yyay__cb"
   },
   "outputs": [],
   "source": [
    "# Function to return the input/output (target) data for model\n",
    "# Note that our goal is to predict the future stock price \n",
    "# Target stock price today will be tomorrow's price \n",
    "def trading_window(data):\n",
    "  n = 1\n",
    "  data['Target'] = data[['Close']].shift(-n)\n",
    "  return data"
   ]
  },
  {
   "cell_type": "markdown",
   "metadata": {},
   "source": [
    "#### If you want to view SP 500 / AMZN / ETC: Change 'APPL' HERE!"
   ]
  },
  {
   "cell_type": "code",
   "execution_count": 13,
   "metadata": {
    "colab": {
     "base_uri": "https://localhost:8080/",
     "height": 419
    },
    "id": "-VdtCh0BB_vH",
    "outputId": "028a99ee-139d-4fdf-b3d8-3074d67c3eb7"
   },
   "outputs": [
    {
     "data": {
      "text/html": [
       "<div>\n",
       "<style scoped>\n",
       "    .dataframe tbody tr th:only-of-type {\n",
       "        vertical-align: middle;\n",
       "    }\n",
       "\n",
       "    .dataframe tbody tr th {\n",
       "        vertical-align: top;\n",
       "    }\n",
       "\n",
       "    .dataframe thead th {\n",
       "        text-align: right;\n",
       "    }\n",
       "</style>\n",
       "<table border=\"1\" class=\"dataframe\">\n",
       "  <thead>\n",
       "    <tr style=\"text-align: right;\">\n",
       "      <th></th>\n",
       "      <th>Date</th>\n",
       "      <th>Close</th>\n",
       "      <th>Volume</th>\n",
       "    </tr>\n",
       "  </thead>\n",
       "  <tbody>\n",
       "    <tr>\n",
       "      <th>0</th>\n",
       "      <td>2012-01-12</td>\n",
       "      <td>60.198570</td>\n",
       "      <td>53146800</td>\n",
       "    </tr>\n",
       "    <tr>\n",
       "      <th>1</th>\n",
       "      <td>2012-01-13</td>\n",
       "      <td>59.972858</td>\n",
       "      <td>56505400</td>\n",
       "    </tr>\n",
       "    <tr>\n",
       "      <th>2</th>\n",
       "      <td>2012-01-17</td>\n",
       "      <td>60.671429</td>\n",
       "      <td>60724300</td>\n",
       "    </tr>\n",
       "    <tr>\n",
       "      <th>3</th>\n",
       "      <td>2012-01-18</td>\n",
       "      <td>61.301430</td>\n",
       "      <td>69197800</td>\n",
       "    </tr>\n",
       "    <tr>\n",
       "      <th>4</th>\n",
       "      <td>2012-01-19</td>\n",
       "      <td>61.107143</td>\n",
       "      <td>65434600</td>\n",
       "    </tr>\n",
       "    <tr>\n",
       "      <th>...</th>\n",
       "      <td>...</td>\n",
       "      <td>...</td>\n",
       "      <td>...</td>\n",
       "    </tr>\n",
       "    <tr>\n",
       "      <th>2154</th>\n",
       "      <td>2020-08-05</td>\n",
       "      <td>440.250000</td>\n",
       "      <td>30498000</td>\n",
       "    </tr>\n",
       "    <tr>\n",
       "      <th>2155</th>\n",
       "      <td>2020-08-06</td>\n",
       "      <td>455.609985</td>\n",
       "      <td>50607200</td>\n",
       "    </tr>\n",
       "    <tr>\n",
       "      <th>2156</th>\n",
       "      <td>2020-08-07</td>\n",
       "      <td>444.450012</td>\n",
       "      <td>49453300</td>\n",
       "    </tr>\n",
       "    <tr>\n",
       "      <th>2157</th>\n",
       "      <td>2020-08-10</td>\n",
       "      <td>450.910004</td>\n",
       "      <td>53100900</td>\n",
       "    </tr>\n",
       "    <tr>\n",
       "      <th>2158</th>\n",
       "      <td>2020-08-11</td>\n",
       "      <td>437.500000</td>\n",
       "      <td>46871100</td>\n",
       "    </tr>\n",
       "  </tbody>\n",
       "</table>\n",
       "<p>2159 rows × 3 columns</p>\n",
       "</div>"
      ],
      "text/plain": [
       "            Date       Close    Volume\n",
       "0     2012-01-12   60.198570  53146800\n",
       "1     2012-01-13   59.972858  56505400\n",
       "2     2012-01-17   60.671429  60724300\n",
       "3     2012-01-18   61.301430  69197800\n",
       "4     2012-01-19   61.107143  65434600\n",
       "...          ...         ...       ...\n",
       "2154  2020-08-05  440.250000  30498000\n",
       "2155  2020-08-06  455.609985  50607200\n",
       "2156  2020-08-07  444.450012  49453300\n",
       "2157  2020-08-10  450.910004  53100900\n",
       "2158  2020-08-11  437.500000  46871100\n",
       "\n",
       "[2159 rows x 3 columns]"
      ]
     },
     "execution_count": 13,
     "metadata": {},
     "output_type": "execute_result"
    }
   ],
   "source": [
    "# Let's test the functions and get individual stock prices and volumes for AAPL\n",
    "price_volume_df = individual_stock(stocks_df, stocks_vol_df, 'AAPL')\n",
    "price_volume_df"
   ]
  },
  {
   "cell_type": "code",
   "execution_count": 14,
   "metadata": {
    "colab": {
     "base_uri": "https://localhost:8080/",
     "height": 419
    },
    "id": "8sZ9a0mMCYq-",
    "outputId": "b1a6794b-3869-4dc4-ef16-526bb7ab6a00"
   },
   "outputs": [],
   "source": [
    "price_volume_target_df = trading_window(price_volume_df)"
   ]
  },
  {
   "cell_type": "code",
   "execution_count": 15,
   "metadata": {
    "colab": {
     "base_uri": "https://localhost:8080/",
     "height": 419
    },
    "id": "6UdkMEUcD18c",
    "outputId": "277be6df-ac34-4ca9-d42e-3cbba800c938"
   },
   "outputs": [],
   "source": [
    "# Remove the last row as it will be a null value\n",
    "price_volume_target_df = price_volume_target_df[:-1]"
   ]
  },
  {
   "cell_type": "code",
   "execution_count": 16,
   "metadata": {
    "id": "M08n1GlnZtlL"
   },
   "outputs": [],
   "source": [
    "# Scale the data\n",
    "sc = MinMaxScaler(feature_range = (0,1))\n",
    "price_volume_target_scaled_df = sc.fit_transform(price_volume_target_df.drop(columns = ['Date']))"
   ]
  },
  {
   "cell_type": "code",
   "execution_count": 17,
   "metadata": {
    "id": "RvVJa_UvD_uB"
   },
   "outputs": [],
   "source": [
    "# Create Feature and Target\n",
    "X = price_volume_target_scaled_df[:, :2]\n",
    "y = price_volume_target_scaled_df[:, 2:]"
   ]
  },
  {
   "cell_type": "markdown",
   "metadata": {
    "id": "HIlzHnyxGoXI"
   },
   "source": [
    "### Spliting the data this way, since order is important in time-series\n",
    "### Note that we did not use train test split with it's default settings since it shuffles the data"
   ]
  },
  {
   "cell_type": "code",
   "execution_count": 18,
   "metadata": {
    "id": "-cg-HNcvFJak"
   },
   "outputs": [],
   "source": [
    "split = int(0.5 * len(X))"
   ]
  },
  {
   "cell_type": "code",
   "execution_count": 19,
   "metadata": {
    "colab": {
     "base_uri": "https://localhost:8080/"
    },
    "id": "kZWI-GhZPWIJ",
    "outputId": "e452f995-9f76-403a-f2e8-b8c90d97635f"
   },
   "outputs": [],
   "source": [
    "X_train = X[:split]\n",
    "y_train = y[:split]"
   ]
  },
  {
   "cell_type": "code",
   "execution_count": 20,
   "metadata": {
    "id": "05EDujLnPc2P"
   },
   "outputs": [],
   "source": [
    "X_test = X[:split]\n",
    "y_test = y[:split]"
   ]
  },
  {
   "cell_type": "code",
   "execution_count": 21,
   "metadata": {
    "colab": {
     "base_uri": "https://localhost:8080/",
     "height": 655
    },
    "id": "GFtSZ4_lk4Aq",
    "outputId": "2879faa0-7b4f-458e-f303-aee48d0610a4"
   },
   "outputs": [
    {
     "data": {
      "image/png": "[encoded data removed]",
      "text/plain": [
       "<Figure size 936x360 with 1 Axes>"
      ]
     },
     "metadata": {
      "needs_background": "light"
     },
     "output_type": "display_data"
    },
    {
     "data": {
      "image/png": "[encoded data removed]",
      "text/plain": [
       "<Figure size 936x360 with 1 Axes>"
      ]
     },
     "metadata": {
      "needs_background": "light"
     },
     "output_type": "display_data"
    }
   ],
   "source": [
    "# Define a data plotting function\n",
    "def show_plot(data, title):\n",
    "  plt.figure(figsize = (13,5))\n",
    "  plt.plot(data, linewidth = 3)\n",
    "  plt.title(title)\n",
    "  plt.grid()\n",
    "\n",
    "show_plot(X_train, 'Training Data')\n",
    "show_plot(X_test, 'Testing Data')"
   ]
  },
  {
   "cell_type": "markdown",
   "metadata": {
    "id": "2FVSgRmFFkW5"
   },
   "source": [
    "# BUILD AND TRAIN A RIDGE LINEAR REGRESSION MODEL"
   ]
  },
  {
   "cell_type": "code",
   "execution_count": 22,
   "metadata": {
    "id": "QECbURfqFvBP"
   },
   "outputs": [
    {
     "name": "stdout",
     "output_type": "stream",
     "text": [
      "Ridge Regression Score: 0.9235402375540539\n"
     ]
    }
   ],
   "source": [
    "regression_model = Ridge()\n",
    "\n",
    "# Test the model and calculate its accuracy \n",
    "regression_model.fit(X_train, y_train)\n",
    "\n",
    "# Make Prediction\n",
    "lr_accuracy = regression_model.score(X_test, y_test)\n",
    "print('Ridge Regression Score:', lr_accuracy)"
   ]
  },
  {
   "cell_type": "code",
   "execution_count": 23,
   "metadata": {
    "colab": {
     "base_uri": "https://localhost:8080/"
    },
    "id": "2VNXZpyehMct",
    "outputId": "98456552-6717-46ea-c243-48c138c540e8"
   },
   "outputs": [],
   "source": [
    "# Append the predicted values into a list\n",
    "predicted_prices = regression_model.predict(X)"
   ]
  },
  {
   "cell_type": "code",
   "execution_count": 24,
   "metadata": {
    "id": "65hNu2EO7ez2"
   },
   "outputs": [],
   "source": [
    "predicted = []\n",
    "for i in predicted_prices:\n",
    "  predicted.append(i[0])"
   ]
  },
  {
   "cell_type": "code",
   "execution_count": 25,
   "metadata": {
    "id": "AYGT3NAlah-1"
   },
   "outputs": [],
   "source": [
    "# Append the close values to the list\n",
    "close = []\n",
    "for i in price_volume_target_scaled_df:\n",
    "  close.append(i[0])"
   ]
  },
  {
   "cell_type": "code",
   "execution_count": 26,
   "metadata": {
    "colab": {
     "base_uri": "https://localhost:8080/",
     "height": 419
    },
    "id": "KAZJ5HnsJjDH",
    "outputId": "3a2a5827-3a1d-4330-9476-99c18b35fb2a"
   },
   "outputs": [],
   "source": [
    "# Create a dataframe based on the dates in the individual stock data\n",
    "df_predicted = price_volume_target_df[['Date']]"
   ]
  },
  {
   "cell_type": "code",
   "execution_count": 27,
   "metadata": {
    "colab": {
     "base_uri": "https://localhost:8080/",
     "height": 407
    },
    "id": "ap51j2zMbukl",
    "outputId": "e1050364-2b33-4d92-b029-952774310061"
   },
   "outputs": [],
   "source": [
    "# Add the close values to the dataframe\n",
    "df_predicted['Close'] = close"
   ]
  },
  {
   "cell_type": "code",
   "execution_count": 28,
   "metadata": {
    "colab": {
     "base_uri": "https://localhost:8080/",
     "height": 419
    },
    "id": "xTvlo0ZpJ2Sn",
    "outputId": "26744174-5a08-4a31-d01f-6162baa1bfa7"
   },
   "outputs": [
    {
     "data": {
      "text/html": [
       "<div>\n",
       "<style scoped>\n",
       "    .dataframe tbody tr th:only-of-type {\n",
       "        vertical-align: middle;\n",
       "    }\n",
       "\n",
       "    .dataframe tbody tr th {\n",
       "        vertical-align: top;\n",
       "    }\n",
       "\n",
       "    .dataframe thead th {\n",
       "        text-align: right;\n",
       "    }\n",
       "</style>\n",
       "<table border=\"1\" class=\"dataframe\">\n",
       "  <thead>\n",
       "    <tr style=\"text-align: right;\">\n",
       "      <th></th>\n",
       "      <th>Date</th>\n",
       "      <th>Close</th>\n",
       "      <th>Prediction</th>\n",
       "    </tr>\n",
       "  </thead>\n",
       "  <tbody>\n",
       "    <tr>\n",
       "      <th>0</th>\n",
       "      <td>2012-01-12</td>\n",
       "      <td>0.011026</td>\n",
       "      <td>0.039271</td>\n",
       "    </tr>\n",
       "    <tr>\n",
       "      <th>1</th>\n",
       "      <td>2012-01-13</td>\n",
       "      <td>0.010462</td>\n",
       "      <td>0.038418</td>\n",
       "    </tr>\n",
       "    <tr>\n",
       "      <th>2</th>\n",
       "      <td>2012-01-17</td>\n",
       "      <td>0.012209</td>\n",
       "      <td>0.039053</td>\n",
       "    </tr>\n",
       "    <tr>\n",
       "      <th>3</th>\n",
       "      <td>2012-01-18</td>\n",
       "      <td>0.013785</td>\n",
       "      <td>0.038985</td>\n",
       "    </tr>\n",
       "    <tr>\n",
       "      <th>4</th>\n",
       "      <td>2012-01-19</td>\n",
       "      <td>0.013299</td>\n",
       "      <td>0.039164</td>\n",
       "    </tr>\n",
       "    <tr>\n",
       "      <th>...</th>\n",
       "      <td>...</td>\n",
       "      <td>...</td>\n",
       "      <td>...</td>\n",
       "    </tr>\n",
       "    <tr>\n",
       "      <th>2153</th>\n",
       "      <td>2020-08-04</td>\n",
       "      <td>0.957606</td>\n",
       "      <td>0.698486</td>\n",
       "    </tr>\n",
       "    <tr>\n",
       "      <th>2154</th>\n",
       "      <td>2020-08-05</td>\n",
       "      <td>0.961583</td>\n",
       "      <td>0.703003</td>\n",
       "    </tr>\n",
       "    <tr>\n",
       "      <th>2155</th>\n",
       "      <td>2020-08-06</td>\n",
       "      <td>1.000000</td>\n",
       "      <td>0.726942</td>\n",
       "    </tr>\n",
       "    <tr>\n",
       "      <th>2156</th>\n",
       "      <td>2020-08-07</td>\n",
       "      <td>0.972088</td>\n",
       "      <td>0.707701</td>\n",
       "    </tr>\n",
       "    <tr>\n",
       "      <th>2157</th>\n",
       "      <td>2020-08-10</td>\n",
       "      <td>0.988245</td>\n",
       "      <td>0.718430</td>\n",
       "    </tr>\n",
       "  </tbody>\n",
       "</table>\n",
       "<p>2158 rows × 3 columns</p>\n",
       "</div>"
      ],
      "text/plain": [
       "            Date     Close  Prediction\n",
       "0     2012-01-12  0.011026    0.039271\n",
       "1     2012-01-13  0.010462    0.038418\n",
       "2     2012-01-17  0.012209    0.039053\n",
       "3     2012-01-18  0.013785    0.038985\n",
       "4     2012-01-19  0.013299    0.039164\n",
       "...          ...       ...         ...\n",
       "2153  2020-08-04  0.957606    0.698486\n",
       "2154  2020-08-05  0.961583    0.703003\n",
       "2155  2020-08-06  1.000000    0.726942\n",
       "2156  2020-08-07  0.972088    0.707701\n",
       "2157  2020-08-10  0.988245    0.718430\n",
       "\n",
       "[2158 rows x 3 columns]"
      ]
     },
     "execution_count": 28,
     "metadata": {},
     "output_type": "execute_result"
    }
   ],
   "source": [
    "# Add the predicted values to the dataframe\n",
    "df_predicted['Prediction'] = predicted\n",
    "df_predicted"
   ]
  },
  {
   "cell_type": "code",
   "execution_count": 29,
   "metadata": {
    "colab": {
     "base_uri": "https://localhost:8080/",
     "height": 542
    },
    "id": "d8OSiw6IKBXX",
    "outputId": "cd09359f-5b54-47d4-f76b-19b26060be21"
   },
   "outputs": [],
   "source": [
    "# Plot the results\n",
    "#interactive_plot(df_predicted, 'Original Vs. Predictions: Apple Stock(AAPL)')"
   ]
  },
  {
   "cell_type": "markdown",
   "metadata": {
    "id": "vazFXbaOUBPt"
   },
   "source": [
    "# TRAIN AN LSTM TIME SERIES MODEL\n",
    "\n",
    "#### If you want to view APPL / AMZN / ETC: Change 'sp500 HERE!"
   ]
  },
  {
   "cell_type": "code",
   "execution_count": 30,
   "metadata": {
    "colab": {
     "base_uri": "https://localhost:8080/",
     "height": 419
    },
    "id": "9EIXG9USAXRa",
    "lines_to_next_cell": 0,
    "outputId": "b0b0fb03-65ec-404f-c29b-e3ee1dcdddbb"
   },
   "outputs": [],
   "source": [
    "# Let's test the functions and get individual stock prices and volumes for sp500\n",
    "price_volume_df = individual_stock(stocks_df, stocks_vol_df, 'sp500')"
   ]
  },
  {
   "cell_type": "markdown",
   "metadata": {},
   "source": [
    "\n"
   ]
  },
  {
   "cell_type": "code",
   "execution_count": 31,
   "metadata": {
    "colab": {
     "base_uri": "https://localhost:8080/"
    },
    "id": "U-vk2wswjHSV",
    "outputId": "550d2a32-2899-4450-9286-2647d58999f1"
   },
   "outputs": [],
   "source": [
    "# Get the close and volume data as training data (Input)\n",
    "training_data = price_volume_df.iloc[:, 1:3].values"
   ]
  },
  {
   "cell_type": "code",
   "execution_count": 32,
   "metadata": {
    "id": "3v0W8w5hUznl"
   },
   "outputs": [],
   "source": [
    "# Normalize the data\n",
    "sc = MinMaxScaler(feature_range= (0,1))\n",
    "training_set_scaled = sc.fit_transform(training_data)"
   ]
  },
  {
   "cell_type": "code",
   "execution_count": 33,
   "metadata": {
    "id": "j0qoyucIdSUm"
   },
   "outputs": [],
   "source": [
    "# Create the training and testing data, training data contains present day and previous day values\n",
    "X = []\n",
    "y = []   \n",
    "for i in range(1, len(price_volume_df)):\n",
    "  X.append(training_set_scaled[i-1:i, 0])\n",
    "  y.append(training_set_scaled[i, 0])"
   ]
  },
  {
   "cell_type": "code",
   "execution_count": 34,
   "metadata": {
    "id": "x8wykXAUbKI8"
   },
   "outputs": [],
   "source": [
    "# Convert the data into array format\n",
    "X = np.array(X)\n",
    "y = np.array(y)"
   ]
  },
  {
   "cell_type": "code",
   "execution_count": 35,
   "metadata": {
    "id": "hphqavfBne49"
   },
   "outputs": [],
   "source": [
    "# Split the data\n",
    "split = int(0.7 * len(X))\n",
    "X_train = X[:split]\n",
    "y_train = y[:split]\n",
    "X_test = X[split:]\n",
    "y_test = y[split:]"
   ]
  },
  {
   "cell_type": "code",
   "execution_count": 36,
   "metadata": {
    "colab": {
     "base_uri": "https://localhost:8080/"
    },
    "id": "6_A1uNwzDd40",
    "outputId": "cfdb7ceb-b4d0-4adc-e2d1-9cde25a99018"
   },
   "outputs": [],
   "source": [
    "# Reshape the 1D arrays to 3D arrays to feed in the model\n",
    "X_train = np.reshape(X_train, (X_train.shape[0], X_train.shape[1], 1))\n",
    "X_test = np.reshape(X_test, (X_test.shape[0], X_test.shape[1], 1))"
   ]
  },
  {
   "cell_type": "code",
   "execution_count": 37,
   "metadata": {
    "colab": {
     "base_uri": "https://localhost:8080/"
    },
    "id": "wv2oJunPj7h5",
    "outputId": "deb589ea-e068-47f8-d00e-25f47317955e"
   },
   "outputs": [
    {
     "name": "stdout",
     "output_type": "stream",
     "text": [
      "Model: \"model\"\n",
      "_________________________________________________________________\n",
      "Layer (type)                 Output Shape              Param #   \n",
      "=================================================================\n",
      "input_1 (InputLayer)         [(None, 1, 1)]            0         \n",
      "_________________________________________________________________\n",
      "lstm (LSTM)                  (None, 1, 150)            91200     \n",
      "_________________________________________________________________\n",
      "dropout (Dropout)            (None, 1, 150)            0         \n",
      "_________________________________________________________________\n",
      "lstm_1 (LSTM)                (None, 1, 150)            180600    \n",
      "_________________________________________________________________\n",
      "dropout_1 (Dropout)          (None, 1, 150)            0         \n",
      "_________________________________________________________________\n",
      "lstm_2 (LSTM)                (None, 150)               180600    \n",
      "_________________________________________________________________\n",
      "dense (Dense)                (None, 1)                 151       \n",
      "=================================================================\n",
      "Total params: 452,551\n",
      "Trainable params: 452,551\n",
      "Non-trainable params: 0\n",
      "_________________________________________________________________\n"
     ]
    }
   ],
   "source": [
    "# Create the model\n",
    "inputs = keras.layers.Input(shape=(X_train.shape[1], X_train.shape[2]))\n",
    "x = keras.layers.LSTM(150, return_sequences= True)(inputs)\n",
    "x = keras.layers.Dropout(0.3)(x)\n",
    "x = keras.layers.LSTM(150, return_sequences=True)(x)\n",
    "x = keras.layers.Dropout(0.3)(x)\n",
    "x = keras.layers.LSTM(150)(x)\n",
    "outputs = keras.layers.Dense(1, activation='linear')(x)\n",
    "\n",
    "model = keras.Model(inputs=inputs, outputs=outputs)\n",
    "model.compile(optimizer='adam', loss=\"mse\")\n",
    "model.summary()"
   ]
  },
  {
   "cell_type": "code",
   "execution_count": 38,
   "metadata": {
    "colab": {
     "base_uri": "https://localhost:8080/"
    },
    "id": "rFjmKCd7kVm7",
    "outputId": "aa00eba7-2112-4d2f-d253-5483081bff66"
   },
   "outputs": [
    {
     "name": "stdout",
     "output_type": "stream",
     "text": [
      "Epoch 1/20\n",
      "38/38 [==============================] - 8s 62ms/step - loss: 0.0516 - val_loss: 0.0600\n",
      "Epoch 2/20\n",
      "38/38 [==============================] - 1s 14ms/step - loss: 0.0091 - val_loss: 0.0038\n",
      "Epoch 3/20\n",
      "38/38 [==============================] - 0s 8ms/step - loss: 8.3167e-04 - val_loss: 4.3237e-04\n",
      "Epoch 4/20\n",
      "38/38 [==============================] - 0s 8ms/step - loss: 3.9917e-04 - val_loss: 6.8443e-05\n",
      "Epoch 5/20\n",
      "38/38 [==============================] - 0s 8ms/step - loss: 3.7719e-04 - val_loss: 2.2298e-04\n",
      "Epoch 6/20\n",
      "38/38 [==============================] - 0s 8ms/step - loss: 3.8296e-04 - val_loss: 2.6274e-04\n",
      "Epoch 7/20\n",
      "38/38 [==============================] - 0s 9ms/step - loss: 3.6797e-04 - val_loss: 1.6367e-04\n",
      "Epoch 8/20\n",
      "38/38 [==============================] - 0s 8ms/step - loss: 3.0490e-04 - val_loss: 4.3384e-04\n",
      "Epoch 9/20\n",
      "38/38 [==============================] - 0s 7ms/step - loss: 2.6665e-04 - val_loss: 6.7167e-05\n",
      "Epoch 10/20\n",
      "38/38 [==============================] - 0s 7ms/step - loss: 2.8353e-04 - val_loss: 3.8658e-05\n",
      "Epoch 11/20\n",
      "38/38 [==============================] - 0s 7ms/step - loss: 2.7387e-04 - val_loss: 3.4800e-05\n",
      "Epoch 12/20\n",
      "38/38 [==============================] - 0s 7ms/step - loss: 2.6931e-04 - val_loss: 6.2262e-05\n",
      "Epoch 13/20\n",
      "38/38 [==============================] - 0s 8ms/step - loss: 2.5066e-04 - val_loss: 5.1072e-05\n",
      "Epoch 14/20\n",
      "38/38 [==============================] - 0s 7ms/step - loss: 2.4210e-04 - val_loss: 3.0613e-05\n",
      "Epoch 15/20\n",
      "38/38 [==============================] - 0s 7ms/step - loss: 2.5344e-04 - val_loss: 2.7560e-05\n",
      "Epoch 16/20\n",
      "38/38 [==============================] - 0s 7ms/step - loss: 2.4714e-04 - val_loss: 9.0270e-05\n",
      "Epoch 17/20\n",
      "38/38 [==============================] - 0s 7ms/step - loss: 2.4216e-04 - val_loss: 5.5988e-05\n",
      "Epoch 18/20\n",
      "38/38 [==============================] - 0s 7ms/step - loss: 2.1513e-04 - val_loss: 8.3520e-05\n",
      "Epoch 19/20\n",
      "38/38 [==============================] - 0s 7ms/step - loss: 2.2559e-04 - val_loss: 6.5607e-05\n",
      "Epoch 20/20\n",
      "38/38 [==============================] - 0s 13ms/step - loss: 1.8643e-04 - val_loss: 7.9273e-05\n"
     ]
    }
   ],
   "source": [
    "# Train the model\n",
    "history = model.fit(X_train, y_train, epochs= 20, batch_size= 32, validation_split= 0.2)"
   ]
  },
  {
   "cell_type": "code",
   "execution_count": 39,
   "metadata": {
    "id": "8VN54FHZefcC"
   },
   "outputs": [],
   "source": [
    "# Make prediction\n",
    "predicted = model.predict(X)"
   ]
  },
  {
   "cell_type": "code",
   "execution_count": 40,
   "metadata": {
    "id": "HppCo4lqLx8H"
   },
   "outputs": [],
   "source": [
    "test_predicted = []\n",
    "\n",
    "for i in predicted:\n",
    "  test_predicted.append(i[0])"
   ]
  },
  {
   "cell_type": "code",
   "execution_count": 41,
   "metadata": {
    "colab": {
     "base_uri": "https://localhost:8080/",
     "height": 419
    },
    "id": "QScwFF4iLx41",
    "outputId": "c8142e5b-f4cb-4614-a3c9-b8eefcfb3fb2"
   },
   "outputs": [],
   "source": [
    "df_predicted = price_volume_df[1:][['Date']]"
   ]
  },
  {
   "cell_type": "code",
   "execution_count": 42,
   "metadata": {
    "id": "9BHuC76_Lx2D"
   },
   "outputs": [],
   "source": [
    "df_predicted['predictions'] = test_predicted"
   ]
  },
  {
   "cell_type": "code",
   "execution_count": 43,
   "metadata": {
    "id": "dByPRHADMgDz"
   },
   "outputs": [],
   "source": [
    "close = []\n",
    "for i in training_set_scaled:\n",
    "  close.append(i[0])"
   ]
  },
  {
   "cell_type": "code",
   "execution_count": 44,
   "metadata": {
    "id": "YjvpWrbIMgCC",
    "scrolled": false
   },
   "outputs": [
    {
     "data": {
      "text/html": [
       "<div>\n",
       "<style scoped>\n",
       "    .dataframe tbody tr th:only-of-type {\n",
       "        vertical-align: middle;\n",
       "    }\n",
       "\n",
       "    .dataframe tbody tr th {\n",
       "        vertical-align: top;\n",
       "    }\n",
       "\n",
       "    .dataframe thead th {\n",
       "        text-align: right;\n",
       "    }\n",
       "</style>\n",
       "<table border=\"1\" class=\"dataframe\">\n",
       "  <thead>\n",
       "    <tr style=\"text-align: right;\">\n",
       "      <th></th>\n",
       "      <th>Date</th>\n",
       "      <th>predictions</th>\n",
       "      <th>Close</th>\n",
       "    </tr>\n",
       "  </thead>\n",
       "  <tbody>\n",
       "    <tr>\n",
       "      <th>1</th>\n",
       "      <td>2012-01-13</td>\n",
       "      <td>0.013117</td>\n",
       "      <td>0.005242</td>\n",
       "    </tr>\n",
       "    <tr>\n",
       "      <th>2</th>\n",
       "      <td>2012-01-17</td>\n",
       "      <td>0.010090</td>\n",
       "      <td>0.007414</td>\n",
       "    </tr>\n",
       "    <tr>\n",
       "      <th>3</th>\n",
       "      <td>2012-01-18</td>\n",
       "      <td>0.012253</td>\n",
       "      <td>0.014231</td>\n",
       "    </tr>\n",
       "    <tr>\n",
       "      <th>4</th>\n",
       "      <td>2012-01-19</td>\n",
       "      <td>0.019040</td>\n",
       "      <td>0.017295</td>\n",
       "    </tr>\n",
       "    <tr>\n",
       "      <th>5</th>\n",
       "      <td>2012-01-20</td>\n",
       "      <td>0.022092</td>\n",
       "      <td>0.017713</td>\n",
       "    </tr>\n",
       "    <tr>\n",
       "      <th>...</th>\n",
       "      <td>...</td>\n",
       "      <td>...</td>\n",
       "      <td>...</td>\n",
       "    </tr>\n",
       "    <tr>\n",
       "      <th>2154</th>\n",
       "      <td>2020-08-05</td>\n",
       "      <td>0.921312</td>\n",
       "      <td>0.972307</td>\n",
       "    </tr>\n",
       "    <tr>\n",
       "      <th>2155</th>\n",
       "      <td>2020-08-06</td>\n",
       "      <td>0.930061</td>\n",
       "      <td>0.982453</td>\n",
       "    </tr>\n",
       "    <tr>\n",
       "      <th>2156</th>\n",
       "      <td>2020-08-07</td>\n",
       "      <td>0.938837</td>\n",
       "      <td>0.983459</td>\n",
       "    </tr>\n",
       "    <tr>\n",
       "      <th>2157</th>\n",
       "      <td>2020-08-10</td>\n",
       "      <td>0.939706</td>\n",
       "      <td>0.987819</td>\n",
       "    </tr>\n",
       "    <tr>\n",
       "      <th>2158</th>\n",
       "      <td>2020-08-11</td>\n",
       "      <td>0.943467</td>\n",
       "      <td>0.975115</td>\n",
       "    </tr>\n",
       "  </tbody>\n",
       "</table>\n",
       "<p>2158 rows × 3 columns</p>\n",
       "</div>"
      ],
      "text/plain": [
       "            Date  predictions     Close\n",
       "1     2012-01-13     0.013117  0.005242\n",
       "2     2012-01-17     0.010090  0.007414\n",
       "3     2012-01-18     0.012253  0.014231\n",
       "4     2012-01-19     0.019040  0.017295\n",
       "5     2012-01-20     0.022092  0.017713\n",
       "...          ...          ...       ...\n",
       "2154  2020-08-05     0.921312  0.972307\n",
       "2155  2020-08-06     0.930061  0.982453\n",
       "2156  2020-08-07     0.938837  0.983459\n",
       "2157  2020-08-10     0.939706  0.987819\n",
       "2158  2020-08-11     0.943467  0.975115\n",
       "\n",
       "[2158 rows x 3 columns]"
      ]
     },
     "execution_count": 44,
     "metadata": {},
     "output_type": "execute_result"
    }
   ],
   "source": [
    "df_predicted['Close'] = close[1:]\n",
    "df_predicted"
   ]
  },
  {
   "cell_type": "code",
   "execution_count": 45,
   "metadata": {
    "colab": {
     "base_uri": "https://localhost:8080/",
     "height": 542
    },
    "id": "FJw2jU0uNBVG",
    "outputId": "d2f222a9-ce6e-48e6-d261-8668ace425b9"
   },
   "outputs": [],
   "source": [
    "# Plot the results\n",
    "#interactive_plot(df_predicted, 'Original Vs Predictions: SP500')"
   ]
  }
 ],
 "metadata": {
  "colab": {
   "collapsed_sections": [],
   "name": "Copy of ML In Finance - Stock Price Predictions Using Regression & LSTM - Skeleton.ipynb",
   "provenance": []
  },
  "jupytext": {
   "formats": "ipynb,Rmd"
  },
  "kernelspec": {
   "display_name": "Python 3",
   "language": "python",
   "name": "python3"
  },
  "language_info": {
   "codemirror_mode": {
    "name": "ipython",
    "version": 3
   },
   "file_extension": ".py",
   "mimetype": "text/x-python",
   "name": "python",
   "nbconvert_exporter": "python",
   "pygments_lexer": "ipython3",
   "version": "3.8.3"
  },
  "toc": {
   "base_numbering": 1,
   "nav_menu": {},
   "number_sections": true,
   "sideBar": true,
   "skip_h1_title": false,
   "title_cell": "Table of Contents",
   "title_sidebar": "Contents",
   "toc_cell": false,
   "toc_position": {},
   "toc_section_display": true,
   "toc_window_display": false
  },
  "varInspector": {
   "cols": {
    "lenName": 16,
    "lenType": 16,
    "lenVar": 40
   },
   "kernels_config": {
    "python": {
     "delete_cmd_postfix": "",
     "delete_cmd_prefix": "del ",
     "library": "var_list.py",
     "varRefreshCmd": "print(var_dic_list())"
    },
    "r": {
     "delete_cmd_postfix": ") ",
     "delete_cmd_prefix": "rm(",
     "library": "var_list.r",
     "varRefreshCmd": "cat(var_dic_list()) "
    }
   },
   "types_to_exclude": [
    "module",
    "function",
    "builtin_function_or_method",
    "instance",
    "_Feature"
   ],
   "window_display": false
  }
 },
 "nbformat": 4,
 "nbformat_minor": 1
}
